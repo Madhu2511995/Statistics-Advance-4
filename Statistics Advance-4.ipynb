{
 "cells": [
  {
   "cell_type": "markdown",
   "id": "39cde37a-92c8-4495-ad1f-fce09dd287bc",
   "metadata": {
    "jp-MarkdownHeadingCollapsed": true,
    "tags": []
   },
   "source": [
    "#### Q1: What is the difference between a t-test and a z-test? Provide an example scenario where you would use each type of test.\n",
    "\n",
    "#### Q2: Differentiate between one-tailed and two-tailed tests.\n",
    "\n",
    "#### Q3: Explain the concept of Type 1 and Type 2 errors in hypothesis testing. Provide an example scenario for each type of error.\n",
    "\n",
    "#### Q4: Explain Bayes's theorem with an example.\n",
    "\n",
    "#### Q5: What is a confidence interval? How to calculate the confidence interval, explain with an example.\n",
    "\n",
    "#### Q6. Use Bayes' Theorem to calculate the probability of an event occurring given prior knowledge of the event's probability and new evidence. Provide a sample problem and solution.\n",
    "\n",
    "#### Q7. Calculate the 95% confidence interval for a sample of data with a mean of 50 and a standard deviation of 5. Interpret the results.\n",
    "\n",
    "#### Q8. What is the margin of error in a confidence interval? How does sample size affect the margin of error? Provide an example of a scenario where a larger sample size would result in a smaller margin of error.\n",
    "\n",
    "#### Q9. Calculate the z-score for a data point with a value of 75, a population mean of 70, and a population standard deviation of 5. Interpret the results.\n",
    "\n",
    "#### Q10. In a study of the effectiveness of a new weight loss drug, a sample of 50 participants lost an average of 6 pounds with a standard deviation of 2.5 pounds. Conduct a hypothesis test to determine if the drug is significantly effective at a 95% confidence level using a t-test.\n",
    "\n",
    "#### Q11. In a survey of 500 people, 65% reported being satisfied with their current job. Calculate the 95% confidence interval for the true proportion of people who are satisfied with their job.\n",
    "\n",
    "#### Q12. A researcher is testing the effectiveness of two different teaching methods on student performance. Sample A has a mean score of 85 with a standard deviation of 6, while sample B has a mean score of 82 with a standard deviation of 5. Conduct a hypothesis test to determine if the two teaching methods have a significant difference in student performance using a t-test with a significance level of 0.01.\n",
    "\n",
    "#### Q13. A population has a mean of 60 and a standard deviation of 8. A sample of 50 observations has a mean of 65. Calculate the 90% confidence interval for the true population mean.\n",
    "\n",
    "#### Q14. In a study of the effects of caffeine on reaction time, a sample of 30 participants had an average reaction time of 0.25 seconds with a standard deviation of 0.05 seconds. Conduct a hypothesis test to determine if the caffeine has a significant effect on reaction time at a 90% confidence level using a t-test."
   ]
  },
  {
   "cell_type": "markdown",
   "id": "7ed8bd3a-aab1-4c41-b215-e70eb265d19b",
   "metadata": {},
   "source": [
    "## Answers"
   ]
  },
  {
   "cell_type": "markdown",
   "id": "12d5f525-eef3-4b57-a897-403e522c22ed",
   "metadata": {},
   "source": [
    "### Q1: What is the difference between a t-test and a z-test? Provide an example scenario where you would use each type of test."
   ]
  },
  {
   "cell_type": "markdown",
   "id": "4fdba94a-4769-41c0-99dc-642438024d1e",
   "metadata": {},
   "source": [
    "#### T-test:\n",
    "A t-test is used when the sample size is small, and the population standard deviation is unknown. It is suitable for testing hypotheses about the means of a single sample or the difference between means of two independent samples.\n",
    "\n",
    "#### Example:\n",
    "Let's say a researcher wants to determine if there is a significant difference in the average test scores of two groups of students who underwent different teaching methods. The researcher collects two independent samples—one from each group—and then performs a t-test to compare the means of the two groups."
   ]
  },
  {
   "cell_type": "markdown",
   "id": "c17c9c47-568b-4806-a06b-cedeaa03711e",
   "metadata": {},
   "source": [
    "#### Z-test:\n",
    "A z-test is appropriate when the sample size is large, and the population standard deviation is known or the sample size is large enough for the sample standard deviation to be a good estimate of the population standard deviation. It is commonly used for hypothesis testing when dealing with large samples.\n",
    "\n",
    "#### Example scenario: \n",
    "Suppose a company claims that the average weight of their cereal boxes is 500 grams, with a known population standard deviation of 10 grams. To verify this claim, a quality control manager collects a large sample of cereal boxes and measures their weights. Since the sample size is large and the population standard deviation is known, the manager can perform a z-test to test if the average weight is indeed 500 grams."
   ]
  },
  {
   "cell_type": "markdown",
   "id": "0511713e-cdb2-450a-a092-776679ac4bb2",
   "metadata": {},
   "source": [
    "### Q2: Differentiate between one-tailed and two-tailed tests."
   ]
  },
  {
   "cell_type": "markdown",
   "id": "a14c91d2-2726-408d-b98b-4442187cb20a",
   "metadata": {},
   "source": [
    "#### One-tailed test:\n",
    "In a one-tailed test, the null hypothesis specifies the direction of the effect or difference. The alternative hypothesis focuses on only one side of the distribution, either greater than or less than a specific value. This means that the test is looking for evidence of an effect in only one direction.\n",
    "\n",
    "#### Example:\n",
    "Null hypothesis (H0): The average test scores of Group A and Group B are equal.\n",
    "Alternative hypothesis (Ha): The average test scores of Group A are significantly greater than the average test scores of Group B."
   ]
  },
  {
   "cell_type": "markdown",
   "id": "180730d1-d06d-46e1-a0ad-2a688f50937e",
   "metadata": {},
   "source": [
    "### Two-tailed test:\n",
    "In a two-tailed test, the null hypothesis does not specify the direction of the effect or difference. The alternative hypothesis includes the possibility of an effect in both directions, either greater than or less than a specific value. This means that the test is looking for evidence of an effect in either direction.\n",
    "\n",
    "### Example:\n",
    "Null hypothesis (H0): The average test scores of Group A and Group B are equal.\n",
    "Alternative hypothesis (Ha): The average test scores of Group A are significantly different from the average test scores of Group B.\n",
    "\n",
    "In this case, the two-tailed test will look for evidence of a significant difference in either direction—whether the average test scores of Group A are greater or less than the average test scores of Group B. If the data shows a significant difference in either direction, the null hypothesis will be rejected."
   ]
  },
  {
   "cell_type": "markdown",
   "id": "abc69f92-ee38-4fbd-ba26-7a109c30a152",
   "metadata": {},
   "source": [
    "### Q3: Explain the concept of Type 1 and Type 2 errors in hypothesis testing. Provide an example scenario for each type of error."
   ]
  },
  {
   "cell_type": "markdown",
   "id": "531e521c-f743-44e7-adbd-2eed11796270",
   "metadata": {},
   "source": [
    "### Type 1 error (False Positive):\n",
    "A Type 1 error occurs when the null hypothesis (H0) is true, but it is incorrectly rejected in favor of the alternative hypothesis (Ha). In other words, the test incorrectly concludes that there is a significant effect or difference when there is none in the population. \n",
    "\n",
    "1. The probability of making a Type 1 error is denoted by the symbol alpha (α), which is also called the significance level.\n",
    "\n",
    "### Example:\n",
    "Suppose a pharmaceutical company is testing a new drug for a specific disease. The null hypothesis (H0) is that the drug has no effect on the disease (i.e., it is no better than a placebo). The alternative hypothesis (Ha) is that the drug is effective and has a significant impact on the disease. If the company conducts a clinical trial and mistakenly concludes that the drug is effective when, in reality, it is not, this would be a Type 1 error."
   ]
  },
  {
   "cell_type": "markdown",
   "id": "78cb3935-47e8-4697-81a2-dd446eec8535",
   "metadata": {},
   "source": [
    "### Type 2 error (False Negative):\n",
    "A Type 2 error occurs when the null hypothesis (H0) is false, but it is incorrectly not rejected, leading to a failure to detect a significant effect or difference that actually exists in the population. \n",
    "\n",
    "1. The probability of making a Type 2 error is denoted by the symbol beta (β).\n",
    "\n",
    "### Example:\n",
    "Continuing from the previous example, let's say the new drug is genuinely effective, but the clinical trial fails to detect its efficacy. In this case, the null hypothesis (H0) is false (the drug does have an effect), but the trial fails to reject H0, and the drug is not approved or recognized as effective. This would be a Type 2 error."
   ]
  },
  {
   "cell_type": "markdown",
   "id": "28601ee8-b757-46bc-9e32-e8659d1f3997",
   "metadata": {},
   "source": [
    "### Q4: Explain Bayes's theorem with an example."
   ]
  },
  {
   "cell_type": "markdown",
   "id": "82a54bd5-1840-4ac8-b33a-084a907f6c03",
   "metadata": {},
   "source": [
    "It allows us to update our beliefs about the probability of an event occurring based on new evidence or information.\n",
    "\n",
    "\\[ P(A|B) = P(B|A) P(A)/{P(B)\n",
    "\n",
    "Where:\n",
    "- \\( P(A|B) \\) is the conditional probability of event A given that event B has occurred.\n",
    "- \\( P(B|A) \\) is the conditional probability of event B given that event A has occurred.\n",
    "- \\( P(A) \\) is the probability of event A occurring before considering the evidence.\n",
    "- \\( P(B) \\) is the probability of event B occurring before considering the evidence.\n",
    "\n",
    "The theorem can be quite useful in updating our beliefs as we gather new information.\n",
    "\n",
    "Example scenario:\n",
    "\n",
    "Let's say we have a diagnostic test to detect a rare disease. The test is not perfect and can sometimes give false positive and false negative results. Here are some probabilities related to the test and the disease:\n",
    "\n",
    "- The probability of having the disease, denoted as \\( P(\\text{Disease}) \\), is 0.01 (1% of the population has the disease).\n",
    "- The probability of the test correctly detecting the disease, denoted as \\( P(\\text{Positive test result}|\\text{Disease}) \\), is 0.95 (the test has a 95% true positive rate).\n",
    "- The probability of the test incorrectly indicating the disease when the person is healthy, denoted as \\( P(\\text{Positive test result}|\\text{No Disease}) \\), is 0.02 (the test has a 2% false positive rate).\n",
    "\n",
    "Now, let's say we want to find the probability that a person actually has the disease (event A) given that they received a positive test result (event B).\n",
    "\n",
    "We can apply Bayes's theorem to calculate\n",
    "\n",
    "P(Disease|Positive test result):\n",
    "\n",
    "P(Disease|Positive test result) = P(Positive test result|Disease).P(Disease)/P(Positive test result)\n",
    "\n",
    "\n",
    "The probability of not having the disease (\\( P(No Disease) is simply ( 1 - P(Disease).\n",
    "\n",
    "Now, we can substitute the values and calculate:\n",
    "\n",
    "\\[ P(Positive test result) = 0.95 * 0.01 + 0.02 * 0.99 = 0.0293\n",
    "\n",
    "Finally, using Bayes's theorem:\n",
    "\n",
    "\\[ P(Disease|Positive test result) = 0.95 * 0.01/0.0293 == 0.324 \n",
    "\n",
    "So, given a positive test result, the probability that the person actually has the disease is approximately 0.324 or 32.4%. Despite the positive result, there is still a relatively low chance of having the disease due to the test's imperfect accuracy."
   ]
  },
  {
   "cell_type": "markdown",
   "id": "dce665fe-8f77-4ed8-89a4-ef45854a0cd8",
   "metadata": {},
   "source": [
    "### Q5: What is a confidence interval? How to calculate the confidence interval, explain with an example."
   ]
  },
  {
   "cell_type": "markdown",
   "id": "aff79f85-eb41-4747-b1b2-a60b38f51d99",
   "metadata": {},
   "source": [
    "A confidence interval is a range of values within which we expect a population parameter to lie with a certain level of confidence. It is commonly used in statistical analysis to estimate an unknown parameter, such as a population mean or proportion, based on sample data. The confidence interval provides a range of plausible values for the parameter, along with an associated confidence level.\n",
    "\n",
    "The confidence level represents the probability that the true population parameter lies within the calculated interval. For example, if we have a 95% confidence interval for the population mean, it means that we are 95% confident that the true population mean lies within the interval.\n",
    "\n",
    "The formula to calculate a confidence interval for the mean (assuming the population standard deviation is unknown) is:\n",
    "\n",
    "Confidence Interval= x+-t(alpha/2)*s/sqrt(n)\n",
    "\n",
    "Where:\n",
    "- x is the sample mean.\n",
    "- s is the sample standard deviation.\n",
    "- n is the sample size.\n",
    "- t(alpha/2)is the critical t-value corresponding to the desired confidence level (and degrees of freedom). It is obtained from the t-distribution table or calculated using software.\n",
    "\n",
    "Example:\n",
    "\n",
    "Suppose a researcher wants to estimate the average height of a certain population of plants. They take a random sample of 50 plants and measure their heights. The sample mean height is 35 centimeters, and the sample standard deviation is 4 centimeters.\n",
    "\n",
    "To calculate the 95% confidence interval for the population mean height, the researcher needs to find the critical t-value corresponding to a 95% confidence level with 49 degrees of freedom (n-1, where n is the sample size). From a t-distribution table or statistical software, the critical t-value is approximately 2.009.\n",
    "\n",
    "Now, plug the values into the formula:\n",
    "\n",
    "Confidence Interval= 35+-(2.009 *4sqrt(50))\n",
    "\n",
    "Confidence Interval = 35 +- 1.13\n",
    "\n",
    "The 95% confidence interval for the population mean height is (33.87, 36.13) centimeters. This means that we are 95% confident that the true average height of the population lies within this interval."
   ]
  },
  {
   "cell_type": "code",
   "execution_count": null,
   "id": "3fea3505-8fdb-4608-a168-0700cb8017d4",
   "metadata": {},
   "outputs": [],
   "source": []
  },
  {
   "cell_type": "markdown",
   "id": "67bf2753-f9e6-459a-8219-42ca65973569",
   "metadata": {},
   "source": [
    "### Q6. Use Bayes' Theorem to calculate the probability of an event occurring given prior knowledge of the event's probability and new evidence. Provide a sample problem and solution."
   ]
  },
  {
   "cell_type": "markdown",
   "id": "fbf6a1cd-21f4-4b66-a1de-df6659d7f87a",
   "metadata": {},
   "source": [
    "Suppose we have a bag of colored balls containing 30% red balls and 70% blue balls. We also know that 80% of the red balls are large, while 60% of the blue balls are large.\n",
    "\n",
    "Now, we randomly select a ball from the bag, and it turns out to be a large ball. What is the probability that the ball is red?\n",
    "\n",
    "Solution:\n",
    "\n",
    "Let's define the events:\n",
    "\n",
    "Event A: The ball is red.\n",
    "Event B: The ball is large.\n",
    "\n",
    "We are asked to find P(A∣B), which is the probability of the ball being red given that it is large.\n",
    "\n",
    "\n",
    "According to Bayes' Theorem:\n",
    "P(A∣B)= P(B∣A)⋅P(A)/P(B)\n",
    "\n",
    "Where:\n",
    "P(A∣B):  is the probability of the ball being red given that it is large.\n",
    "\n",
    "P(B∣A) : is the probability of the ball being large given that it is red.\n",
    "\n",
    "P(A) is the probability of the ball being red (prior knowledge).\n",
    "\n",
    "P(B) is the probability of the ball being large (prior knowledge).\n",
    "\n",
    "\n",
    "P(A)=0.30 (the probability of selecting a red ball)\n",
    "\n",
    "P(B∣A)=0.80 (the probability of selecting a large ball given that it's red)\n",
    "\n",
    "P(B) is the total probability of selecting a large ball, which can be calculated using the law of total probability:\n",
    "\n",
    "P(B)=P(A)⋅P(B∣A)+P(not A)⋅P(B∣not A)\n",
    "\n",
    "Since there are only red and blue balls in the bag, \n",
    "P(not A) is the probability of selecting a blue ball, which is:\n",
    "\n",
    "1−P(A)=1−0.30=0.70.\n",
    "\n",
    "Similarly, \n",
    "P(B∣not A) is the probability of selecting a large ball given that it's blue, which is \n",
    "0.60\n",
    "\n",
    "Now, we can calculate \n",
    "P(B)= 0.30*0.80 + 0.70 * 0.60 = 0.24 + 0.42 = 0.66\n",
    "\n",
    "Finally, we can use Bayes' Theorem to find \n",
    "\n",
    "P(A∣B)= P(B∣A)⋅P(A)/P(B)\n",
    "\n",
    "P(A∣B)=0.80⋅0.30/0.66 ≈ 0.364 "
   ]
  },
  {
   "cell_type": "markdown",
   "id": "ec44933f-8d5a-4b4b-8f8c-0327d4c92fa8",
   "metadata": {},
   "source": [
    "### Q7. Calculate the 95% confidence interval for a sample of data with a mean of 50 and a standard deviation of 5. Interpret the results."
   ]
  },
  {
   "cell_type": "markdown",
   "id": "bfe49a9c-29ab-4da4-9c95-842e1f54b979",
   "metadata": {},
   "source": [
    "Confidence Interval= x±(z⋅ s/root(n))\n",
    "\n",
    "X: is the sample mean (given as 50 in this case).\n",
    "\n",
    "s: is the sample standard deviation (given as 5 in this case).\n",
    "\n",
    "n: is the sample size (we don't have this information in the question).\n",
    "\n",
    "z: is the critical z-value for a 95% confidence level. For a 95% confidence interval, the z-value is approximately 1.96.\n",
    "\n",
    "Assuming we have a large enough sample size (let's say \n",
    "n=100 for demonstration purposes), we can proceed with the calculation:"
   ]
  },
  {
   "cell_type": "markdown",
   "id": "50a4022a-55bb-4084-ba0c-0f4856d7e8f7",
   "metadata": {},
   "source": [
    "Confidence Interval=50±(1.96⋅ 5/root(100))\n",
    "Confidence Interval=50±0.98\n",
    "\n",
    "The 95% confidence interval for the population mean, based on this sample, is approximately (49.02, 50.98)"
   ]
  },
  {
   "cell_type": "markdown",
   "id": "ca9ef46e-f60e-4ebf-915b-a548e0b627cb",
   "metadata": {},
   "source": [
    "Conclusion\n",
    "\n",
    "With 95% confidence, we can say that the true population mean lies within the range of 49.02 to 50.98. This means that if we were to take multiple samples and construct confidence intervals for each sample using the same method, about 95% of these intervals would include the true population mean, and only around 5% would not."
   ]
  },
  {
   "cell_type": "markdown",
   "id": "ce872e1a-7be7-4b46-83fb-11a7ef81a7c7",
   "metadata": {},
   "source": [
    "### Q8. What is the margin of error in a confidence interval? How does sample size affect the margin of error? Provide an example of a scenario where a larger sample size would result in a smaller margin of error."
   ]
  },
  {
   "cell_type": "markdown",
   "id": "dca95272-9b51-4fc7-9278-bd333c743e41",
   "metadata": {},
   "source": [
    "### Margin of error: \n",
    "A margin of error tells you how many percentage points your results will differ from the real population value.\n",
    "\n",
    "MOE=z* s/root(n)\n",
    "\n",
    "Where:\n",
    "\n",
    "z: is the critical value from the standard normal distribution corresponding to the desired confidence level (e.g., 1.96 for a 95% confidence level).\n",
    "\n",
    "s: is the sample standard deviation.\n",
    "n: is the sample size.\n",
    "\n",
    "\n",
    "Margin of error (parameter) = Critical value x Standard deviation for the population.\n",
    "\n",
    "Margin of error (statistic) = Critical value x Standard error of the sample."
   ]
  },
  {
   "cell_type": "markdown",
   "id": "df033678-d15b-4219-b301-816e662715cf",
   "metadata": {},
   "source": [
    "### Example:\n",
    "\n",
    "Let's consider a political poll conducted to estimate the proportion of voters in a city who support a certain candidate. The pollster takes two different sample sizes, one of 400 voters and another of 1000 voters, and constructs 95% confidence intervals for the true proportion.\n",
    "\n",
    "For the 400-voter sample, the margin of error might be around 4% (hypothetically). This means we expect the true proportion of voters who support the candidate to be within 4 percentage points of the sample estimate (with 95% confidence).\n",
    "\n",
    "For the 1000-voter sample, the margin of error might be around 2% (hypothetically). Here, the larger sample size reduces the uncertainty in the estimate, resulting in a smaller margin of error. We can be more confident that the true proportion lies within 2 percentage points of the sample estimate."
   ]
  },
  {
   "cell_type": "markdown",
   "id": "5da2faf3-9246-4f21-a34e-0aa40f4cf073",
   "metadata": {},
   "source": [
    "### Q9. Calculate the z-score for a data point with a value of 75, a population mean of 70, and a population standard deviation of 5. Interpret the results."
   ]
  },
  {
   "cell_type": "markdown",
   "id": "e09ab738-6c15-4ef7-8342-64955d78004f",
   "metadata": {},
   "source": [
    "z= (data point − mean)/standard deviation\n",
    "\n",
    "z=(x−μ)/σ\n",
    "\n",
    "x: is the value of the data point (given as 75).\n",
    "μ: is the population mean (given as 70).\n",
    "σ: is the population standard deviation (given as 5).\n",
    "\n",
    "z=(75-70)/5\n",
    "z=1\n",
    "\n",
    "The z-score measures the number of standard deviations the data point is away from the population mean. In this case, the z-score is positive, which means the data point is 1 standard deviation above the population mean. Since the population standard deviation is 5, a z-score of 1 indicates that the data point (75) is 1 standard deviation above the mean (70) in the population.\n"
   ]
  },
  {
   "cell_type": "markdown",
   "id": "be63fe70-0b3f-4bf9-ab30-6783f15d34f1",
   "metadata": {},
   "source": [
    "### Q10. In a study of the effectiveness of a new weight loss drug, a sample of 50 participants lost an average of 6 pounds with a standard deviation of 2.5 pounds. Conduct a hypothesis test to determine if the drug is significantly effective at a 95% confidence level using a t-test."
   ]
  },
  {
   "cell_type": "markdown",
   "id": "bb156182-a69d-4962-983b-348a7c5a3382",
   "metadata": {},
   "source": [
    "#### Null hypothesis (H0): \n",
    "The weight loss drug is not significantly effective. The population mean weight loss μ) is equal to or less than zero pounds (i.e., no weight loss).\n",
    "#### H0:μ≤0\n",
    "\n",
    "#### Alternative hypothesis (Ha):\n",
    "The weight loss drug is significantly effective. The population mean weight loss\n",
    "μ) is greater than zero pounds (i.e., there is a positive weight loss).\n",
    "\n",
    "#### Ha:μ>0\n",
    "\n",
    "t=(x-μ)/s/roor(n)\n",
    "\n",
    "x:  is the sample mean (given as 6 pounds).\n",
    "μ:  is the hypothesized population mean under the null hypothesis (0 pounds).\n",
    "s: is the sample standard deviation (given as 2.5 pounds).\n",
    "n: is the sample size (given as 50 participants).\n",
    "\n",
    "t=(6-0)/2.5/root(50)\n",
    "t=7.66\n",
    "\n",
    "degrees of freedom (50 - 1 = 49).\n",
    "critical t-value (1.676)\n",
    "\n",
    "#### Conclusion:\n",
    "t-statistic (7.66) > t-value (1.676)\n",
    "\n",
    "Reject the null hypothesis\n"
   ]
  },
  {
   "cell_type": "code",
   "execution_count": null,
   "id": "296160ea-1ff0-4772-838b-5193ecea0536",
   "metadata": {},
   "outputs": [],
   "source": []
  },
  {
   "cell_type": "markdown",
   "id": "467f36be-faf1-4694-803d-6b9216f03c9c",
   "metadata": {},
   "source": [
    "### Q11. In a survey of 500 people, 65% reported being satisfied with their current job. Calculate the 95% confidence interval for the true proportion of people who are satisfied with their job."
   ]
  },
  {
   "cell_type": "markdown",
   "id": "b0e60e9c-ecb1-4ee8-a6c2-7eb42ed42fbf",
   "metadata": {},
   "source": [
    "Confidence Interval=p ± z*root(p(p-1)/n)\n",
    "\n",
    "p:  is the sample proportion (given as 0.65 or 65% in this case)\n",
    "\n",
    "z: is the critical z-value for a 95% confidence level. For a 95% confidence interval, the z-value is approximately 1.96.\n",
    "\n",
    "n: is the sample size (given as 500 in this case).\n",
    "\n",
    "Confidence Interval: 0.65 ± 1.96 *root(0.65(1-0.65)/500)\n",
    "\n",
    "Confidence Interval: 0.65 ± 0.030\n",
    "\n",
    "The 95% confidence interval for the true proportion of people who are satisfied with their job is approximately (0.62, 0.68).\n"
   ]
  },
  {
   "cell_type": "markdown",
   "id": "e3e53fea-6667-40ea-b940-83d617d771c8",
   "metadata": {},
   "source": [
    "#### Conclusion:\n",
    "With 95% confidence, we can say that we expect the true proportion of people who are satisfied with their job to be within the range of 0.62 to 0.68, based on the sample data. This means that if we were to take multiple samples and construct confidence intervals for each sample using the same method, about 95% of these intervals would include the true population proportion, and only around 5% would not."
   ]
  },
  {
   "cell_type": "markdown",
   "id": "bafbb9dc-8b23-4e43-8850-e4c3d6eab920",
   "metadata": {},
   "source": [
    "### Q12. A researcher is testing the effectiveness of two different teaching methods on student performance. Sample A has a mean score of 85 with a standard deviation of 6, while sample B has a mean score of 82 with a standard deviation of 5. Conduct a hypothesis test to determine if the two teaching methods have a significant difference in student performance using a t-test with a significance level of 0.01."
   ]
  },
  {
   "cell_type": "markdown",
   "id": "bd790c78-c45c-4a83-99d0-31d1248a4705",
   "metadata": {},
   "source": [
    "#### Null hypothesis (H0): \n",
    "The two teaching methods have no significant difference in student performance. The population means of the two samples are equal.\n",
    "H0: μA = μB\n",
    "\n",
    "#### Alternative hypothesis (H1): \n",
    "The two teaching methods have a significant difference in student performance. The population means of the two samples are not equal.\n",
    "H1: μA != μB\n",
    "\n",
    "The formula to calculate the t-statistic for a two-sample independent t-test is given by:\n",
    "t=Xa-Xb/root(s(squar)A/nA +B/nBs(squar)B/nB)\n",
    "\n",
    "Xa: is the sample mean of sample A (given as 85).\n",
    "\n",
    "Xb: s the sample mean of sample B (given as 82).\n",
    "\n",
    "SA: is the sample standard deviation of sample A (given as 6).\n",
    "\n",
    "SB:  is the sample standard deviation of sample B (given as 5).\n",
    "\n",
    "nA: is the sample size of sample A (we don't have this information in the question).\n",
    "\n",
    "nB: is the sample size of sample B (we don't have this information in the question).\n",
    "\n",
    "Since we don't have the sample sizes for each group, we cannot proceed with the t-test without this information."
   ]
  },
  {
   "cell_type": "code",
   "execution_count": null,
   "id": "8dfa4aa1-53b4-4095-944b-b991390b491f",
   "metadata": {},
   "outputs": [],
   "source": []
  },
  {
   "cell_type": "markdown",
   "id": "022ff4d3-ee1b-4cca-9f44-b6fea93f8ab5",
   "metadata": {},
   "source": [
    "### Q13. A population has a mean of 60 and a standard deviation of 8. A sample of 50 observations has a mean of 65. Calculate the 90% confidence interval for the true population mean.\n"
   ]
  },
  {
   "cell_type": "markdown",
   "id": "e18079c9-446a-4827-bbde-a0b62ed5d19e",
   "metadata": {},
   "source": [
    "Confidence Interval= x±(z⋅ σ/root(n))\n",
    "\n",
    "X: is the sample mean (given as  65 in this case).\n",
    "\n",
    "σ:  is the population standard deviation (given as 8 in this case)..\n",
    "\n",
    "n: is the sample size is 50 \n",
    "\n",
    "z:  is the critical z-value for a 90% confidence level. For a 90% confidence interval, the z-value is approximately 1.645.\n",
    "\n",
    "Confidence Interval= 65 ± 1.645 * 8/root(50)\n",
    "\n",
    "Confidence Interval= 65 ± 1.645 * 1.131\n",
    "\n",
    "The 90% confidence interval for the true population mean is approximately (63.85, 66.15)."
   ]
  },
  {
   "cell_type": "markdown",
   "id": "f0fd605d-511a-462d-b92a-f6d94cb9ee99",
   "metadata": {},
   "source": [
    "#### Conclusion:\n",
    "With 90% confidence, we can say that we expect the true population mean to be within the range of 63.85 to 66.15, based on the sample data. This means that if we were to take multiple samples and construct confidence intervals for each sample using the same method, about 90% of these intervals would include the true population mean, and only around 10% would not.   "
   ]
  },
  {
   "cell_type": "markdown",
   "id": "ced06aca-bc23-4c0b-a592-dfd7c969d178",
   "metadata": {},
   "source": [
    "### Q14. In a study of the effects of caffeine on reaction time, a sample of 30 participants had an average reaction time of 0.25 seconds with a standard deviation of 0.05 seconds. Conduct a hypothesis test to determine if the caffeine has a significant effect on reaction time at a 90% confidence level using a t-test."
   ]
  },
  {
   "cell_type": "markdown",
   "id": "6c644e4f-afad-455d-919b-7490c0e9c50a",
   "metadata": {},
   "source": [
    "#### Null hypothesis (H0):\n",
    "Caffeine does not have a significant effect on reaction time. The population mean reaction time (μ) is equal to or less than 0.25 seconds.\n",
    "\n",
    "H0:μ≤0.25\n",
    "\n",
    "#### Alternative hypothesis (H1): \n",
    "Caffeine has a significant effect on reaction time. The population mean reaction time (μ) is greater than 0.25 seconds.\n",
    "H1:μ>0.25\n",
    "\n",
    "t=(x-u)/s/root(n)\n",
    "\n",
    "x: is the sample mean (given as 0.25 seconds).\n",
    "\n",
    "μ: is the hypothesized population mean under the null hypothesis (0.25 seconds).\n",
    "\n",
    "s: is the sample standard deviation (given as 0.05 seconds).\n",
    "\n",
    "n: is the sample size (given as 30 participants).\n",
    "\n",
    "t=(0.25-0.25)/0.05*root(30)\n",
    "t=0\n",
    "\n",
    "Now, we need to find the critical t-value corresponding to a 90% confidence level and 29 degrees of freedom (30 - 1 = 29). The degrees of freedom for a one-sample t-test is the sample size minus one\n",
    "\n",
    "Since the calculated t-statistic (0) is not greater than the critical t-value (1.699), we fail to reject the null hypothesis (H0)."
   ]
  },
  {
   "cell_type": "code",
   "execution_count": null,
   "id": "06744d0c-ae62-4fda-b00a-9a79193eaf52",
   "metadata": {},
   "outputs": [],
   "source": []
  },
  {
   "cell_type": "code",
   "execution_count": null,
   "id": "7e188f1f-d055-478e-bb51-a19ec146d812",
   "metadata": {},
   "outputs": [],
   "source": []
  },
  {
   "cell_type": "code",
   "execution_count": null,
   "id": "cbf47662-626c-4010-ae1d-9645cb457768",
   "metadata": {},
   "outputs": [],
   "source": []
  },
  {
   "cell_type": "code",
   "execution_count": null,
   "id": "ab9b4ec7-af26-4fb5-93f3-07c7ece0562b",
   "metadata": {},
   "outputs": [],
   "source": []
  },
  {
   "cell_type": "code",
   "execution_count": null,
   "id": "61c9e76e-c851-472b-9405-15d5d6e9fc72",
   "metadata": {},
   "outputs": [],
   "source": []
  },
  {
   "cell_type": "code",
   "execution_count": null,
   "id": "044e63ee-acd7-47c1-a000-5760697c572f",
   "metadata": {},
   "outputs": [],
   "source": []
  }
 ],
 "metadata": {
  "kernelspec": {
   "display_name": "Python 3 (ipykernel)",
   "language": "python",
   "name": "python3"
  },
  "language_info": {
   "codemirror_mode": {
    "name": "ipython",
    "version": 3
   },
   "file_extension": ".py",
   "mimetype": "text/x-python",
   "name": "python",
   "nbconvert_exporter": "python",
   "pygments_lexer": "ipython3",
   "version": "3.10.8"
  }
 },
 "nbformat": 4,
 "nbformat_minor": 5
}
